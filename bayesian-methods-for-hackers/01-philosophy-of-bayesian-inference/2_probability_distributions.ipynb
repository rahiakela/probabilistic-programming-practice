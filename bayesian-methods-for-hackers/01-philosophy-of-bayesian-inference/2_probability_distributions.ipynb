{
  "nbformat": 4,
  "nbformat_minor": 0,
  "metadata": {
    "anaconda-cloud": {},
    "kernelspec": {
      "display_name": "Python [bayes]",
      "language": "python",
      "name": "Python [bayes]"
    },
    "language_info": {
      "codemirror_mode": {
        "name": "ipython",
        "version": 3
      },
      "file_extension": ".py",
      "mimetype": "text/x-python",
      "name": "python",
      "nbconvert_exporter": "python",
      "pygments_lexer": "ipython3",
      "version": "3.5.2"
    },
    "colab": {
      "name": "2-probability-distributions.ipynb",
      "provenance": [],
      "toc_visible": true,
      "include_colab_link": true
    }
  },
  "cells": [
    {
      "cell_type": "markdown",
      "metadata": {
        "id": "view-in-github",
        "colab_type": "text"
      },
      "source": [
        "<a href=\"https://colab.research.google.com/github/rahiakela/probabilistic-programming-practice/blob/main/bayesian-methods-for-hackers/01-philosophy-of-bayesian-inference/2_probability_distributions.ipynb\" target=\"_parent\"><img src=\"https://colab.research.google.com/assets/colab-badge.svg\" alt=\"Open In Colab\"/></a>"
      ]
    },
    {
      "cell_type": "markdown",
      "metadata": {
        "id": "_D78X09xg-8v"
      },
      "source": [
        "## Probability Distributions"
      ]
    },
    {
      "cell_type": "markdown",
      "metadata": {
        "id": "Rt3gFW2hTL39"
      },
      "source": [
        "**Let's quickly recall what a probability distribution is:** Let $Z$ be some random variable. Then associated with $Z$ is a *probability distribution function* that assigns probabilities to the different outcomes $Z$ can take. Graphically, a probability distribution is a curve where the probability of an outcome is proportional to the height of the curve. You can see examples in the first figure of this chapter. \n",
        "\n",
        "We can divide random variables into three classifications:\n",
        "\n",
        "-   **$Z$ is discrete**: Discrete random variables may only assume values on a specified list. Things like populations, movie ratings, and number of votes are all discrete random variables. Discrete random variables become more clear when we contrast them with...\n",
        "\n",
        "-   **$Z$ is continuous**: Continuous random variable can take on arbitrarily exact values. For example, temperature, speed, time, color are all modeled as continuous variables because you can progressively make the values more and more precise.\n",
        "\n",
        "- **$Z$ is mixed**: Mixed random variables assign probabilities to both discrete and continuous random variables, i.e. it is a combination of the above two categories. "
      ]
    },
    {
      "cell_type": "markdown",
      "metadata": {
        "id": "e1954koYTUUn"
      },
      "source": [
        "### Discrete Case"
      ]
    },
    {
      "cell_type": "markdown",
      "metadata": {
        "id": "mtT1wA4ETUkj"
      },
      "source": [
        "\n",
        "If $Z$ is discrete, then its distribution is called a *probability mass function*, which measures the probability $Z$ takes on the value $k$, denoted $P(Z=k)$. Note that the probability mass function completely describes the random variable $Z$, that is, if we know the mass function, we know how $Z$ should behave. There are popular probability mass functions that consistently appear: we will introduce them as needed, but let's introduce the first very useful probability mass function. We say $Z$ is *Poisson*-distributed if:\n",
        "\n",
        "$$P(Z = k) =\\frac{ \\lambda^k e^{-\\lambda} }{k!}, \\; \\; k=0,1,2, \\dots $$\n",
        "\n",
        "$\\lambda$ is called a parameter of the distribution, and it controls the distribution's shape. For the Poisson distribution, $\\lambda$ can be any positive number. By increasing $\\lambda$, we add more probability to larger values, and conversely by decreasing $\\lambda$ we add more probability to smaller values. One can describe $\\lambda$ as the *intensity* of the Poisson distribution. \n",
        "\n",
        "Unlike $\\lambda$, which can be any positive number, the value $k$ in the above formula must be a non-negative integer, i.e., $k$ must take on values 0,1,2, and so on. This is very important, because if you wanted to model a population you could not make sense of populations with 4.25 or 5.612 members. \n",
        "\n",
        "If a random variable $Z$ has a Poisson mass distribution, we denote this by writing\n",
        "\n",
        "$$Z \\sim \\text{Poi}(\\lambda) $$\n",
        "\n",
        "One useful property of the Poisson distribution is that its expected value is equal to its parameter, i.e.:\n",
        "\n",
        "$$E\\large[ \\;Z\\; | \\; \\lambda \\;\\large] = \\lambda $$\n",
        "\n",
        "We will use this property often, so it's useful to remember. Below, we plot the probability mass distribution for different $\\lambda$ values. The first thing to notice is that by increasing $\\lambda$, we add more probability of larger values occurring. Second, notice that although the graph ends at 15, the distributions do not. They assign positive probability to every non-negative integer."
      ]
    },
    {
      "cell_type": "code",
      "metadata": {
        "id": "3Wyt7SIVmuhy"
      },
      "source": [
        "# The code below can be passed over, as it is currently not important, plus it\n",
        "# uses advanced topics we have not covered yet. LOOK AT PICTURE, MICHAEL!\n",
        "%matplotlib inline\n",
        "from IPython.core.pylabtools import figsize\n",
        "import numpy as np\n",
        "from matplotlib import pyplot as plt\n",
        "figsize(11, 9)\n",
        "\n",
        "import scipy.stats as stats"
      ],
      "execution_count": 1,
      "outputs": []
    },
    {
      "cell_type": "code",
      "metadata": {
        "id": "7f72W5p8g-8v",
        "outputId": "3f29eabf-b310-4de6-f7c1-1878b6739b97",
        "colab": {
          "base_uri": "https://localhost:8080/",
          "height": 299
        }
      },
      "source": [
        "figsize(12.5, 4)\n",
        "\n",
        "import scipy.stats as stats\n",
        "a = np.arange(16)\n",
        "poi = stats.poisson\n",
        "lambda_ = [1.5, 4.25]\n",
        "colours = [\"#348ABD\", \"#A60628\"]\n",
        "\n",
        "plt.bar(a, poi.pmf(a, lambda_[0]), color=colours[0],\n",
        "        label=\"$\\lambda = %.1f$\" % lambda_[0], alpha=0.60,\n",
        "        edgecolor=colours[0], lw=\"3\")\n",
        "\n",
        "plt.bar(a, poi.pmf(a, lambda_[1]), color=colours[1],\n",
        "        label=\"$\\lambda = %.1f$\" % lambda_[1], alpha=0.60,\n",
        "        edgecolor=colours[1], lw=\"3\")\n",
        "\n",
        "plt.xticks(a + 0.4, a)\n",
        "plt.legend()\n",
        "plt.ylabel(\"probability of $k$\")\n",
        "plt.xlabel(\"$k$\")\n",
        "plt.title(\"Probability mass function of a Poisson random variable; differing \\\n",
        "$\\lambda$ values\");"
      ],
      "execution_count": 2,
      "outputs": [
        {
          "output_type": "display_data",
          "data": {
            "image/png": "[encoded data removed]",
            "text/plain": [
              "<Figure size 900x288 with 1 Axes>"
            ]
          },
          "metadata": {
            "tags": [],
            "needs_background": "light"
          }
        }
      ]
    },
    {
      "cell_type": "markdown",
      "metadata": {
        "id": "sfl7EABng-8w"
      },
      "source": [
        "### Continuous Case"
      ]
    },
    {
      "cell_type": "markdown",
      "metadata": {
        "id": "ZtuwV5crTcW4"
      },
      "source": [
        "Instead of a probability mass function, a continuous random variable has a *probability density function*. This might seem like unnecessary nomenclature, but the density function and the mass function are very different creatures. An example of continuous random variable is a random variable with *exponential density*. The density function for an exponential random variable looks like this:\n",
        "\n",
        "$$f_Z(z | \\lambda) = \\lambda e^{-\\lambda z }, \\;\\; z\\ge 0$$\n",
        "\n",
        "Like a Poisson random variable, an exponential random variable can take on only non-negative values. But unlike a Poisson variable, the exponential can take on *any* non-negative values, including non-integral values such as 4.25 or 5.612401. This property makes it a poor choice for count data, which must be an integer, but a great choice for time data, temperature data (measured in Kelvins, of course), or any other precise *and positive* variable. The graph below shows two probability density functions with different $\\lambda$ values. \n",
        "\n",
        "When a random variable $Z$ has an exponential distribution with parameter $\\lambda$, we say *$Z$ is exponential* and write\n",
        "\n",
        "$$Z \\sim \\text{Exp}(\\lambda)$$\n",
        "\n",
        "Given a specific $\\lambda$, the expected value of an exponential random variable is equal to the inverse of $\\lambda$, that is:\n",
        "\n",
        "$$E[\\; Z \\;|\\; \\lambda \\;] = \\frac{1}{\\lambda}$$"
      ]
    },
    {
      "cell_type": "code",
      "metadata": {
        "id": "t_mMPfoPg-8w",
        "outputId": "5c1e2505-e566-4b38-f2ef-922f5ec60ea9",
        "colab": {
          "base_uri": "https://localhost:8080/",
          "height": 297
        }
      },
      "source": [
        "a = np.linspace(0, 4, 100)\n",
        "expo = stats.expon\n",
        "lambda_ = [0.5, 1]\n",
        "\n",
        "for l, c in zip(lambda_, colours):\n",
        "    plt.plot(a, expo.pdf(a, scale=1./l), lw=3,\n",
        "             color=c, label=\"$\\lambda = %.1f$\" % l)\n",
        "    plt.fill_between(a, expo.pdf(a, scale=1./l), color=c, alpha=.33)\n",
        "\n",
        "plt.legend()\n",
        "plt.ylabel(\"PDF at $z$\")\n",
        "plt.xlabel(\"$z$\")\n",
        "plt.ylim(0,1.2)\n",
        "plt.title(\"Probability density function of an Exponential random variable;\\\n",
        " differing $\\lambda$\");"
      ],
      "execution_count": 3,
      "outputs": [
        {
          "output_type": "display_data",
          "data": {
            "image/png": "[encoded data removed]",
            "text/plain": [
              "<Figure size 900x288 with 1 Axes>"
            ]
          },
          "metadata": {
            "tags": [],
            "needs_background": "light"
          }
        }
      ]
    },
    {
      "cell_type": "markdown",
      "metadata": {
        "id": "2ch3KnAdg-8w"
      },
      "source": [
        "## But what is $\\lambda \\;$?"
      ]
    },
    {
      "cell_type": "markdown",
      "metadata": {
        "id": "hCBtdlQaTlay"
      },
      "source": [
        "**This question is what motivates statistics**. In the real world, $\\lambda$ is hidden from us. We see only $Z$, and must go backwards to try and determine $\\lambda$. The problem is difficult because there is no one-to-one mapping from $Z$ to $\\lambda$. Many different methods have been created to solve the problem of estimating $\\lambda$, but since $\\lambda$ is never actually observed, no one can say for certain which method is best! \n",
        "\n",
        "Bayesian inference is concerned with *beliefs* about what $\\lambda$ might be. Rather than try to guess $\\lambda$ exactly, we can only talk about what $\\lambda$ is likely to be by assigning a probability distribution to $\\lambda$.\n",
        "\n",
        "This might seem odd at first. After all, $\\lambda$ is fixed; it is not (necessarily) random! How can we assign probabilities to values of a non-random variable? Ah, we have fallen for our old, frequentist way of thinking. Recall that under Bayesian philosophy, we *can* assign probabilities if we interpret them as beliefs. And it is entirely acceptable to have *beliefs* about the parameter $\\lambda$. \n"
      ]
    },
    {
      "cell_type": "markdown",
      "metadata": {
        "id": "vysMppvjg-8w"
      },
      "source": [
        "### Example: Inferring behaviour from text-message data\n"
      ]
    },
    {
      "cell_type": "markdown",
      "metadata": {
        "id": "W-5vDpRQTrlB"
      },
      "source": [
        "Let's try to model a more interesting example, one that concerns the rate at which a user sends and receives text messages:\n",
        "\n",
        ">  You are given a series of daily text-message counts from a user of your system. The data, plotted over time, appears in the chart below. You are curious to know if the user's text-messaging habits have changed over time, either gradually or suddenly. How can you model this? (This is in fact my own text-message data. Judge my popularity as you wish.)"
      ]
    },
    {
      "cell_type": "code",
      "metadata": {
        "id": "MounIm5AUAnp"
      },
      "source": [
        "!wget -q https://raw.githubusercontent.com/CamDavidsonPilon/Probabilistic-Programming-and-Bayesian-Methods-for-Hackers/master/Chapter1_Introduction/data/txtdata.csv"
      ],
      "execution_count": 4,
      "outputs": []
    },
    {
      "cell_type": "code",
      "metadata": {
        "id": "s90chnGEg-8x",
        "colab": {
          "base_uri": "https://localhost:8080/",
          "height": 268
        },
        "outputId": "4d2c3dd6-14b4-4aab-f1f4-9a529744aee4"
      },
      "source": [
        "figsize(12.5, 3.5)\n",
        "count_data = np.loadtxt(\"txtdata.csv\")\n",
        "n_count_data = len(count_data)\n",
        "plt.bar(np.arange(n_count_data), count_data, color=\"#348ABD\")\n",
        "plt.xlabel(\"Time (days)\")\n",
        "plt.ylabel(\"count of text-msgs received\")\n",
        "plt.title(\"Did the user's texting habits change over time?\")\n",
        "plt.xlim(0, n_count_data);"
      ],
      "execution_count": 5,
      "outputs": [
        {
          "output_type": "display_data",
          "data": {
            "image/png": "[encoded data removed]",
            "text/plain": [
              "<Figure size 900x252 with 1 Axes>"
            ]
          },
          "metadata": {
            "tags": [],
            "needs_background": "light"
          }
        }
      ]
    },
    {
      "cell_type": "markdown",
      "metadata": {
        "id": "gS8myEIUg-8x"
      },
      "source": [
        "Before we start modeling, see what you can figure out just by looking at the chart above. Would you say there was a change in behaviour during this time period? \n",
        "\n",
        "How can we start to model this? Well, as we have conveniently already seen, a Poisson random variable is a very appropriate model for this type of *count* data. Denoting day $i$'s text-message count by $C_i$, \n",
        "\n",
        "$$ C_i \\sim \\text{Poisson}(\\lambda)  $$\n",
        "\n",
        "We are not sure what the value of the $\\lambda$ parameter really is, however. Looking at the chart above, it appears that the rate might become higher late in the observation period, which is equivalent to saying that $\\lambda$ increases at some point during the observations. (Recall that a higher value of $\\lambda$ assigns more probability to larger outcomes. That is, there is a higher probability of many text messages having been sent on a given day.)\n",
        "\n",
        "How can we represent this observation mathematically? Let's assume that on some day during the observation period (call it $\\tau$), the parameter $\\lambda$ suddenly jumps to a higher value. So we really have two $\\lambda$ parameters: one for the period before $\\tau$, and one for the rest of the observation period. In the literature, a sudden transition like this would be called a *switchpoint*:\n",
        "\n",
        "$$\n",
        "\\lambda = \n",
        "\\begin{cases}\n",
        "\\lambda_1  & \\text{if } t \\lt \\tau \\cr\n",
        "\\lambda_2 & \\text{if } t \\ge \\tau\n",
        "\\end{cases}\n",
        "$$\n",
        "\n",
        "\n",
        "If, in reality, no sudden change occurred and indeed $\\lambda_1 = \\lambda_2$, then the $\\lambda$s posterior distributions should look about equal.\n",
        "\n",
        "We are interested in inferring the unknown $\\lambda$s. To use Bayesian inference, we need to assign prior probabilities to the different possible values of $\\lambda$. What would be good prior probability distributions for $\\lambda_1$ and $\\lambda_2$? Recall that $\\lambda$ can be any positive number. As we saw earlier, the *exponential* distribution provides a continuous density function for positive numbers, so it might be a good choice for modeling $\\lambda_i$. But recall that the exponential distribution takes a parameter of its own, so we'll need to include that parameter in our model. Let's call that parameter $\\alpha$.\n",
        "\n",
        "\\begin{align}\n",
        "&\\lambda_1 \\sim \\text{Exp}( \\alpha ) \\\\\\\n",
        "&\\lambda_2 \\sim \\text{Exp}( \\alpha )\n",
        "\\end{align}\n",
        "\n",
        "$\\alpha$ is called a *hyper-parameter* or *parent variable*. In literal terms, it is a parameter that influences other parameters. Our initial guess at $\\alpha$ does not influence the model too strongly, so we have some flexibility in our choice.  A good rule of thumb is to set the exponential parameter equal to the inverse of the average of the count data. Since we're modeling $\\lambda$ using an exponential distribution, we can use the expected value identity shown earlier to get:\n",
        "\n",
        "$$\\frac{1}{N}\\sum_{i=0}^N \\;C_i \\approx E[\\; \\lambda \\; |\\; \\alpha ] = \\frac{1}{\\alpha}$$ \n",
        "\n",
        "An alternative, and something I encourage the reader to try, would be to have two priors: one for each $\\lambda_i$. Creating two exponential distributions with different $\\alpha$ values reflects our prior belief that the rate changed at some point during the observations.\n",
        "\n",
        "What about $\\tau$? Because of the noisiness of the data, it's difficult to pick out a priori when $\\tau$ might have occurred. Instead, we can assign a *uniform prior belief* to every possible day. This is equivalent to saying\n",
        "\n",
        "\\begin{align}\n",
        "& \\tau \\sim \\text{DiscreteUniform(1,70) }\\\\\\\\\n",
        "& \\Rightarrow P( \\tau = k ) = \\frac{1}{70}\n",
        "\\end{align}\n",
        "\n",
        "So after all this, what does our overall prior distribution for the unknown variables look like? Frankly, *it doesn't matter*. What we should understand is that it's an ugly, complicated mess involving symbols only a mathematician could love. And things will only get uglier the more complicated our models become. Regardless, all we really care about is the posterior distribution.\n",
        "\n",
        "We next turn to PyMC3, a Python library for performing Bayesian analysis that is undaunted by the mathematical monster we have created. "
      ]
    },
    {
      "cell_type": "markdown",
      "metadata": {
        "id": "JN-s2X25YHUd"
      },
      "source": [
        "##Introducing our first hammer: PyMC3"
      ]
    },
    {
      "cell_type": "markdown",
      "metadata": {
        "id": "T-g6ACTdYIBX"
      },
      "source": [
        "PyMC3 is a Python library for programming Bayesian analysis [3]. It is a fast, well-maintained library. The only unfortunate part is that its documentation is lacking in certain areas, especially those that bridge the gap between beginner and hacker. One of this book's main goals is to solve that problem, and also to demonstrate why PyMC3 is so cool.\n",
        "\n",
        "We will model the problem above using PyMC3. This type of programming is called *probabilistic programming*, an unfortunate misnomer that invokes ideas of randomly-generated code and has likely confused and frightened users away from this field. The code is not random; it is probabilistic in the sense that we create probability models using programming variables as the model's components. Model components are first-class primitives within the PyMC3 framework. \n",
        "\n",
        "B. Cronin [5] has a very motivating description of probabilistic programming:\n",
        "\n",
        ">   Another way of thinking about this: unlike a traditional program, which only runs in the forward directions, a probabilistic program is run in both the forward and backward direction. It runs forward to compute the consequences of the assumptions it contains about the world (i.e., the model space it represents), but it also runs backward from the data to constrain the possible explanations. In practice, many probabilistic programming systems will cleverly interleave these forward and backward operations to efficiently home in on the best explanations.\n",
        "\n",
        "Because of the confusion engendered by the term *probabilistic programming*, I'll refrain from using it. Instead, I'll simply say *programming*, since that's what it really is. \n",
        "\n",
        "PyMC3 code is easy to read. The only novel thing should be the syntax. Simply remember that we are representing the model's components ($\\tau, \\lambda_1, \\lambda_2$ ) as variables."
      ]
    },
    {
      "cell_type": "code",
      "metadata": {
        "id": "6FpUmm9qg-8x"
      },
      "source": [
        "import pymc3 as pm\n",
        "import theano.tensor as tt\n",
        "\n",
        "with pm.Model() as model:\n",
        "    alpha = 1.0/count_data.mean()  # Recall count_data is the\n",
        "                                   # variable that holds our txt counts\n",
        "    lambda_1 = pm.Exponential(\"lambda_1\", alpha)\n",
        "    lambda_2 = pm.Exponential(\"lambda_2\", alpha)\n",
        "    \n",
        "    tau = pm.DiscreteUniform(\"tau\", lower=0, upper=n_count_data - 1)"
      ],
      "execution_count": 6,
      "outputs": []
    },
    {
      "cell_type": "code",
      "metadata": {
        "id": "W5LkY4BSBiSG",
        "outputId": "05ad5e02-fa22-4213-e274-2c062b73b905",
        "colab": {
          "base_uri": "https://localhost:8080/"
        }
      },
      "source": [
        "print(\"Random output:\", tau.random(), tau.random(), tau.random())"
      ],
      "execution_count": 8,
      "outputs": [
        {
          "output_type": "stream",
          "text": [
            "Random output: 48 30 21\n"
          ],
          "name": "stdout"
        }
      ]
    },
    {
      "cell_type": "markdown",
      "metadata": {
        "id": "G5iufhRbg-8y"
      },
      "source": [
        "In the code above, we create the PyMC3 variables corresponding to $\\lambda_1$ and $\\lambda_2$. We assign them to PyMC3's *stochastic variables*, so-called because they are treated by the back end as random number generators."
      ]
    },
    {
      "cell_type": "code",
      "metadata": {
        "id": "wmLikt0Eg-8y"
      },
      "source": [
        "with model:\n",
        "    idx = np.arange(n_count_data) # Index\n",
        "    lambda_ = pm.math.switch(tau > idx, lambda_1, lambda_2)"
      ],
      "execution_count": 9,
      "outputs": []
    },
    {
      "cell_type": "markdown",
      "metadata": {
        "id": "AoBwF_n5g-8y"
      },
      "source": [
        "This code creates a new function `lambda_`, but really we can think of it as a random variable: the random variable $\\lambda$ from above. The `switch()` function assigns `lambda_1` or `lambda_2` as the value of `lambda_`, depending on what side of `tau` we are on. The values of `lambda_` up until `tau` are `lambda_1` and the values afterwards are `lambda_2`.\n",
        "\n",
        "Note that because `lambda_1`, `lambda_2` and `tau` are random, `lambda_` will be random. We are **not** fixing any variables yet."
      ]
    },
    {
      "cell_type": "code",
      "metadata": {
        "id": "ZBZydjA2g-8y"
      },
      "source": [
        "with model:\n",
        "    observation = pm.Poisson(\"obs\", lambda_, observed=count_data)"
      ],
      "execution_count": 10,
      "outputs": []
    },
    {
      "cell_type": "markdown",
      "metadata": {
        "id": "PjvaGLUsg-8z"
      },
      "source": [
        "The variable `observation` combines our data, `count_data`, with our proposed data-generation scheme, given by the variable `lambda_`, through the `observed` keyword. \n",
        "\n",
        "The code below will be explained in Chapter 3, but I show it here so you can see where our results come from. One can think of it as a *learning* step. The machinery being employed is called *Markov Chain Monte Carlo* (MCMC), which I also delay explaining until Chapter 3. This technique returns thousands of random variables from the posterior distributions of $\\lambda_1, \\lambda_2$ and $\\tau$. We can plot a histogram of the random variables to see what the posterior distributions look like. Below, we collect the samples (called *traces* in the MCMC literature) into histograms."
      ]
    },
    {
      "cell_type": "code",
      "metadata": {
        "id": "4Rru_tzKg-8z",
        "outputId": "6807ed65-e9de-45e3-a286-340540d6d7de",
        "colab": {
          "base_uri": "https://localhost:8080/",
          "height": 237
        }
      },
      "source": [
        "### Mysterious code to be explained in Chapter 3.\n",
        "with model:\n",
        "    step = pm.Metropolis()\n",
        "    trace = pm.sample(10000, tune=5000,step=step)"
      ],
      "execution_count": 11,
      "outputs": [
        {
          "output_type": "stream",
          "text": [
            "/usr/local/lib/python3.7/dist-packages/ipykernel_launcher.py:4: FutureWarning: In v4.0, pm.sample will return an `arviz.InferenceData` object instead of a `MultiTrace` by default. You can pass return_inferencedata=True or return_inferencedata=False to be safe and silence this warning.\n",
            "  after removing the cwd from sys.path.\n",
            "Sequential sampling (2 chains in 1 job)\n",
            "CompoundStep\n",
            ">Metropolis: [tau]\n",
            ">Metropolis: [lambda_2]\n",
            ">Metropolis: [lambda_1]\n"
          ],
          "name": "stderr"
        },
        {
          "output_type": "display_data",
          "data": {
            "text/html": [
              "\n",
              "    <div>\n",
              "        <style>\n",
              "            /* Turns off some styling */\n",
              "            progress {\n",
              "                /* gets rid of default border in Firefox and Opera. */\n",
              "                border: none;\n",
              "                /* Needs to be in here for Safari polyfill so background images work as expected. */\n",
              "                background-size: auto;\n",
              "            }\n",
              "            .progress-bar-interrupted, .progress-bar-interrupted::-webkit-progress-bar {\n",
              "                background: #F44336;\n",
              "            }\n",
              "        </style>\n",
              "      <progress value='15000' class='' max='15000' style='width:300px; height:20px; vertical-align: middle;'></progress>\n",
              "      100.00% [15000/15000 00:06<00:00 Sampling chain 0, 0 divergences]\n",
              "    </div>\n",
              "    "
            ],
            "text/plain": [
              "<IPython.core.display.HTML object>"
            ]
          },
          "metadata": {
            "tags": []
          }
        },
        {
          "output_type": "display_data",
          "data": {
            "text/html": [
              "\n",
              "    <div>\n",
              "        <style>\n",
              "            /* Turns off some styling */\n",
              "            progress {\n",
              "                /* gets rid of default border in Firefox and Opera. */\n",
              "                border: none;\n",
              "                /* Needs to be in here for Safari polyfill so background images work as expected. */\n",
              "                background-size: auto;\n",
              "            }\n",
              "            .progress-bar-interrupted, .progress-bar-interrupted::-webkit-progress-bar {\n",
              "                background: #F44336;\n",
              "            }\n",
              "        </style>\n",
              "      <progress value='15000' class='' max='15000' style='width:300px; height:20px; vertical-align: middle;'></progress>\n",
              "      100.00% [15000/15000 00:06<00:00 Sampling chain 1, 0 divergences]\n",
              "    </div>\n",
              "    "
            ],
            "text/plain": [
              "<IPython.core.display.HTML object>"
            ]
          },
          "metadata": {
            "tags": []
          }
        },
        {
          "output_type": "stream",
          "text": [
            "Sampling 2 chains for 5_000 tune and 10_000 draw iterations (10_000 + 20_000 draws total) took 13 seconds.\n",
            "The number of effective samples is smaller than 10% for some parameters.\n"
          ],
          "name": "stderr"
        }
      ]
    },
    {
      "cell_type": "code",
      "metadata": {
        "id": "P9hVZx5vg-8z"
      },
      "source": [
        "lambda_1_samples = trace['lambda_1']\n",
        "lambda_2_samples = trace['lambda_2']\n",
        "tau_samples = trace['tau']"
      ],
      "execution_count": 12,
      "outputs": []
    },
    {
      "cell_type": "code",
      "metadata": {
        "id": "aYO4E_lYg-8z",
        "outputId": "16f147c7-b054-44ee-a484-13cb52c6e3f3",
        "colab": {
          "base_uri": "https://localhost:8080/",
          "height": 642
        }
      },
      "source": [
        "figsize(12.5, 10)\n",
        "#histogram of the samples:\n",
        "\n",
        "ax = plt.subplot(311)\n",
        "ax.set_autoscaley_on(False)\n",
        "\n",
        "plt.hist(lambda_1_samples, histtype='stepfilled', bins=30, alpha=0.85,\n",
        "         label=\"posterior of $\\lambda_1$\", color=\"#A60628\", density=True)\n",
        "plt.legend(loc=\"upper left\")\n",
        "plt.title(r\"\"\"Posterior distributions of the variables\n",
        "    $\\lambda_1,\\;\\lambda_2,\\;\\tau$\"\"\")\n",
        "plt.xlim([15, 30])\n",
        "plt.xlabel(\"$\\lambda_1$ value\")\n",
        "\n",
        "ax = plt.subplot(312)\n",
        "ax.set_autoscaley_on(False)\n",
        "plt.hist(lambda_2_samples, histtype='stepfilled', bins=30, alpha=0.85,\n",
        "         label=\"posterior of $\\lambda_2$\", color=\"#7A68A6\", density=True)\n",
        "plt.legend(loc=\"upper left\")\n",
        "plt.xlim([15, 30])\n",
        "plt.xlabel(\"$\\lambda_2$ value\")\n",
        "\n",
        "plt.subplot(313)\n",
        "w = 1.0 / tau_samples.shape[0] * np.ones_like(tau_samples)\n",
        "plt.hist(tau_samples, bins=n_count_data, alpha=1,\n",
        "         label=r\"posterior of $\\tau$\",\n",
        "         color=\"#467821\", weights=w, rwidth=2.)\n",
        "plt.xticks(np.arange(n_count_data))\n",
        "\n",
        "plt.legend(loc=\"upper left\")\n",
        "plt.ylim([0, .75])\n",
        "plt.xlim([35, len(count_data)-20])\n",
        "plt.xlabel(r\"$\\tau$ (in days)\")\n",
        "plt.ylabel(\"probability\");"
      ],
      "execution_count": 13,
      "outputs": [
        {
          "output_type": "display_data",
          "data": {
            "image/png": "[encoded data removed]",
            "text/plain": [
              "<Figure size 900x720 with 3 Axes>"
            ]
          },
          "metadata": {
            "tags": [],
            "needs_background": "light"
          }
        }
      ]
    },
    {
      "cell_type": "markdown",
      "metadata": {
        "id": "3tBbu4XXZDGX"
      },
      "source": [
        "### Interpretation"
      ]
    },
    {
      "cell_type": "markdown",
      "metadata": {
        "id": "2iLIMvsNg-80"
      },
      "source": [
        "Recall that Bayesian methodology returns a *distribution*. Hence we now have distributions to describe the unknown $\\lambda$s and $\\tau$. What have we gained? Immediately, we can see the uncertainty in our estimates: the wider the distribution, the less certain our posterior belief should be. We can also see what the plausible values for the parameters are: $\\lambda_1$ is around 18 and $\\lambda_2$ is around 23. The posterior distributions of the two $\\lambda$s are clearly distinct, indicating that it is indeed likely that there was a change in the user's text-message behaviour.\n",
        "\n",
        "What other observations can you make? If you look at the original data again, do these results seem reasonable? \n",
        "\n",
        "Notice also that the posterior distributions for the $\\lambda$s do not look like exponential distributions, even though our priors for these variables were exponential. In fact, the posterior distributions are not really of any form that we recognize from the original model. But that's OK! This is one of the benefits of taking a computational point of view. If we had instead done this analysis using mathematical approaches, we would have been stuck with an analytically intractable (and messy) distribution. Our use of a computational approach makes us indifferent to mathematical tractability.\n",
        "\n",
        "Our analysis also returned a distribution for $\\tau$. Its posterior distribution looks a little different from the other two because it is a discrete random variable, so it doesn't assign probabilities to intervals. We can see that near day 45, there was a 50% chance that the user's behaviour changed. Had no change occurred, or had the change been gradual over time, the posterior distribution of $\\tau$ would have been more spread out, reflecting that many days were plausible candidates for $\\tau$. By contrast, in the actual results we see that only three or four days make any sense as potential transition points. "
      ]
    },
    {
      "cell_type": "markdown",
      "metadata": {
        "id": "FWHuMnDLZG2N"
      },
      "source": [
        "### Why would I want samples from the posterior, anyways?"
      ]
    },
    {
      "cell_type": "markdown",
      "metadata": {
        "id": "WLgAx0ZTg-80"
      },
      "source": [
        "We will deal with this question for the remainder of the book, and it is an understatement to say that it will lead us to some amazing results. For now, let's end this chapter with one more example.\n",
        "\n",
        "We'll use the posterior samples to answer the following question: what is the expected number of texts at day $t, \\; 0 \\le t \\le 70$ ? Recall that the expected value of a Poisson variable is equal to its parameter $\\lambda$. Therefore, the question is equivalent to *what is the expected value of $\\lambda$ at time $t$*?\n",
        "\n",
        "In the code below, let $i$ index samples from the posterior distributions. Given a day $t$, we average over all possible $\\lambda_i$ for that day $t$, using $\\lambda_i = \\lambda_{1,i}$ if $t \\lt \\tau_i$ (that is, if the behaviour change has not yet occurred), else we use $\\lambda_i = \\lambda_{2,i}$. "
      ]
    },
    {
      "cell_type": "code",
      "metadata": {
        "id": "F_uUdEDIg-80",
        "outputId": "52bb4336-81ea-4d05-bd6e-21d375c2bd69"
      },
      "source": [
        "figsize(12.5, 5)\n",
        "# tau_samples, lambda_1_samples, lambda_2_samples contain\n",
        "# N samples from the corresponding posterior distribution\n",
        "N = tau_samples.shape[0]\n",
        "expected_texts_per_day = np.zeros(n_count_data)\n",
        "for day in range(0, n_count_data):\n",
        "    # ix is a bool index of all tau samples corresponding to\n",
        "    # the switchpoint occurring prior to value of 'day'\n",
        "    ix = day < tau_samples\n",
        "    # Each posterior sample corresponds to a value for tau.\n",
        "    # for each day, that value of tau indicates whether we're \"before\"\n",
        "    # (in the lambda1 \"regime\") or\n",
        "    #  \"after\" (in the lambda2 \"regime\") the switchpoint.\n",
        "    # by taking the posterior sample of lambda1/2 accordingly, we can average\n",
        "    # over all samples to get an expected value for lambda on that day.\n",
        "    # As explained, the \"message count\" random variable is Poisson distributed,\n",
        "    # and therefore lambda (the poisson parameter) is the expected value of\n",
        "    # \"message count\".\n",
        "    expected_texts_per_day[day] = (lambda_1_samples[ix].sum()\n",
        "                                   + lambda_2_samples[~ix].sum()) / N\n",
        "\n",
        "\n",
        "plt.plot(range(n_count_data), expected_texts_per_day, lw=4, color=\"#E24A33\",\n",
        "         label=\"expected number of text-messages received\")\n",
        "plt.xlim(0, n_count_data)\n",
        "plt.xlabel(\"Day\")\n",
        "plt.ylabel(\"Expected # text-messages\")\n",
        "plt.title(\"Expected number of text-messages received\")\n",
        "plt.ylim(0, 60)\n",
        "plt.bar(np.arange(len(count_data)), count_data, color=\"#348ABD\", alpha=0.65,\n",
        "        label=\"observed texts per day\")\n",
        "\n",
        "plt.legend(loc=\"upper left\");"
      ],
      "execution_count": null,
      "outputs": [
        {
          "output_type": "display_data",
          "data": {
            "image/png": "[encoded data removed]",
            "text/plain": [
              "<matplotlib.figure.Figure at 0x7f53ab6616d8>"
            ]
          },
          "metadata": {
            "tags": []
          }
        }
      ]
    },
    {
      "cell_type": "markdown",
      "metadata": {
        "id": "lU-JlLMvg-81"
      },
      "source": [
        "Our analysis shows strong support for believing the user's behavior did change ($\\lambda_1$ would have been close in value to $\\lambda_2$ had this not been true), and that the change was sudden rather than gradual (as demonstrated by $\\tau$'s strongly peaked posterior distribution). We can speculate what might have caused this: a cheaper text-message rate, a recent weather-to-text subscription, or perhaps a new relationship. (In fact, the 45th day corresponds to Christmas, and I moved away to Toronto the next month, leaving a girlfriend behind.)\n"
      ]
    },
    {
      "cell_type": "markdown",
      "metadata": {
        "id": "uvSUpxIbg-81"
      },
      "source": [
        "##### Exercises\n",
        "\n",
        "1\\.  Using `lambda_1_samples` and `lambda_2_samples`, what is the mean of the posterior distributions of $\\lambda_1$ and $\\lambda_2$?"
      ]
    },
    {
      "cell_type": "code",
      "metadata": {
        "id": "6UUuIUeeg-81"
      },
      "source": [
        "#type your code here."
      ],
      "execution_count": null,
      "outputs": []
    },
    {
      "cell_type": "markdown",
      "metadata": {
        "id": "vb19CIpGg-81"
      },
      "source": [
        "2\\.  What is the expected percentage increase in text-message rates? `hint:` compute the mean of `lambda_1_samples/lambda_2_samples`. Note that this quantity is very different from `lambda_1_samples.mean()/lambda_2_samples.mean()`."
      ]
    },
    {
      "cell_type": "code",
      "metadata": {
        "id": "y8W1KolHg-81"
      },
      "source": [
        "#type your code here."
      ],
      "execution_count": null,
      "outputs": []
    },
    {
      "cell_type": "markdown",
      "metadata": {
        "id": "KQzPND7Ag-82"
      },
      "source": [
        "3\\. What is the mean of $\\lambda_1$ **given** that we know $\\tau$ is less than 45.  That is, suppose we have been given new information that the change in behaviour occurred prior to day 45. What is the expected value of $\\lambda_1$ now? (You do not need to redo the PyMC3 part. Just consider all instances where `tau_samples < 45`.)"
      ]
    },
    {
      "cell_type": "code",
      "metadata": {
        "id": "Ntz_tEqug-82"
      },
      "source": [
        "#type your code here."
      ],
      "execution_count": null,
      "outputs": []
    },
    {
      "cell_type": "markdown",
      "metadata": {
        "id": "FAnW2Flig-82"
      },
      "source": [
        "### References\n",
        "\n",
        "\n",
        "-  [1] Gelman, Andrew. N.p.. Web. 22 Jan 2013. [N is never large enough](http://andrewgelman.com/2005/07/31/n_is_never_larg).\n",
        "-  [2] Norvig, Peter. 2009. [The Unreasonable Effectiveness of Data](http://static.googleusercontent.com/media/research.google.com/en//pubs/archive/35179.pdf).\n",
        "- [3] Salvatier, J, Wiecki TV, and Fonnesbeck C. (2016) Probabilistic programming in Python using PyMC3. *PeerJ Computer Science* 2:e55 <https://doi.org/10.7717/peerj-cs.55>\n",
        "- [4] Jimmy Lin and Alek Kolcz. Large-Scale Machine Learning at Twitter. Proceedings of the 2012 ACM SIGMOD International Conference on Management of Data (SIGMOD 2012), pages 793-804, May 2012, Scottsdale, Arizona.\n",
        "- [5] Cronin, Beau. \"Why Probabilistic Programming Matters.\" 24 Mar 2013. Google, Online Posting to Google . Web. 24 Mar. 2013. <https://plus.google.com/u/0/107971134877020469960/posts/KpeRdJKR6Z1>."
      ]
    }
  ]
}